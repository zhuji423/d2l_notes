{
 "cells": [
  {
   "cell_type": "code",
   "execution_count": 37,
   "metadata": {},
   "outputs": [
    {
     "data": {
      "text/plain": [
       "'19-斯坦福CS224n自然语言处理课训练营【第五期】-完整不加密'"
      ]
     },
     "execution_count": 37,
     "metadata": {},
     "output_type": "execute_result"
    }
   ],
   "source": [
    "import os\n",
    "path = r\"G:\\深度之眼\\vip课程\\课程视频\\19-斯坦福CS224n自然语言处理课训练营【第五期】-完整不加密\"\n",
    "os.chdir(path)\n",
    "os.path.basename(path)"
   ]
  },
  {
   "cell_type": "code",
   "execution_count": 57,
   "metadata": {},
   "outputs": [],
   "source": [
    "listd = os.listdir(path)\n",
    "dic = {'一':1,'二':2,'三':3,'四':4,'五':5,'六':6,'七':7,'八':8,'九':9,'十':10,'十一':11}\n",
    "for i in listd:\n",
    "\n",
    "    if i[0]=='第':\n",
    "        try:\n",
    "            newname = i[0]+str(dic[i[1]])+i[2:]\n",
    "            print(newname)\n",
    "\n",
    "            os.rename(i,newname)\n",
    "        except:\n",
    "            continue\n",
    "    else:\n",
    "        continue"
   ]
  },
  {
   "cell_type": "code",
   "execution_count": 52,
   "metadata": {},
   "outputs": [
    {
     "data": {
      "text/plain": [
       "['第9周【任务4】一周学习内容总结',\n",
       " '第十一周【任务1】Future of NLP + Deep Learning',\n",
       " '第十一周【任务2】01kaggle文本分类比赛-比赛介绍',\n",
       " '第十一周【任务2】02kaggle文本分类比赛-数据分析',\n",
       " '第十一周【任务2】03kaggle文本分类比赛-baseline模型(1)',\n",
       " '第十一周【任务2】04kaggle文本分类比赛-baseline模型(2)',\n",
       " '第十一周【任务2】05kaggle文本分类比赛-提交数据+提分策略',\n",
       " '第十周【任务1】Lecture 18',\n",
       " '第十周【任务2】Lecture 19',\n",
       " '第十周【任务3】一周学习内容总结',\n",
       " '第十周【任务4】直播答疑',\n",
       " '第四周 直播答疑1128',\n",
       " '第四周【任务1】学习CS224n Lecture 05及导学',\n",
       " '第四周【任务3】一周学习内容总结',\n",
       " '第四周【作业讲解】Assignment 3']"
      ]
     },
     "execution_count": 52,
     "metadata": {},
     "output_type": "execute_result"
    }
   ],
   "source": []
  }
 ],
 "metadata": {
  "interpreter": {
   "hash": "8d86c190dfcadcdaa67edec4a1ea82702241987b5b1f320c920d3d4ca36fee5b"
  },
  "kernelspec": {
   "display_name": "Python 3.9.7 64-bit ('base': conda)",
   "language": "python",
   "name": "python3"
  },
  "language_info": {
   "codemirror_mode": {
    "name": "ipython",
    "version": 3
   },
   "file_extension": ".py",
   "mimetype": "text/x-python",
   "name": "python",
   "nbconvert_exporter": "python",
   "pygments_lexer": "ipython3",
   "version": "3.9.7"
  },
  "orig_nbformat": 4
 },
 "nbformat": 4,
 "nbformat_minor": 2
}
